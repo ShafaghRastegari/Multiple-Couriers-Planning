{
  "nbformat": 4,
  "nbformat_minor": 0,
  "metadata": {
    "colab": {
      "provenance": []
    },
    "kernelspec": {
      "name": "python3",
      "display_name": "Python 3"
    },
    "language_info": {
      "name": "python"
    }
  },
  "cells": [
    {
      "cell_type": "code",
      "execution_count": 1,
      "metadata": {
        "colab": {
          "base_uri": "https://localhost:8080/"
        },
        "id": "h4q3Ffp9KrNe",
        "outputId": "3b9771e0-bfd5-44bb-b0c4-94c87d93d200"
      },
      "outputs": [
        {
          "output_type": "stream",
          "name": "stdout",
          "text": [
            "Collecting z3-solver\n",
            "  Downloading z3_solver-4.13.3.0-py3-none-manylinux_2_17_x86_64.manylinux2014_x86_64.whl.metadata (602 bytes)\n",
            "Downloading z3_solver-4.13.3.0-py3-none-manylinux_2_17_x86_64.manylinux2014_x86_64.whl (28.1 MB)\n",
            "\u001b[2K   \u001b[90m━━━━━━━━━━━━━━━━━━━━━━━━━━━━━━━━━━━━━━━━\u001b[0m \u001b[32m28.1/28.1 MB\u001b[0m \u001b[31m39.3 MB/s\u001b[0m eta \u001b[36m0:00:00\u001b[0m\n",
            "\u001b[?25hInstalling collected packages: z3-solver\n",
            "Successfully installed z3-solver-4.13.3.0\n"
          ]
        }
      ],
      "source": [
        "!pip install z3-solver"
      ]
    },
    {
      "cell_type": "code",
      "source": [
        "from z3 import *\n",
        "import numpy as np\n",
        "import time"
      ],
      "metadata": {
        "id": "FOGrToRqLh8Z"
      },
      "execution_count": 2,
      "outputs": []
    },
    {
      "cell_type": "code",
      "source": [
        "def maximum(x):\n",
        "    m = x[0]\n",
        "    for v in x[1:]:\n",
        "        m = If(v > m, v, m)\n",
        "    return m\n",
        "\n",
        "def run_model_on_instance(file):\n",
        "    with open(file) as f:\n",
        "      m = int(next(f)) # couriers\n",
        "      n = int(next(f)) # items\n",
        "      l = [int(e) for e in next(f).split()] # capacities\n",
        "      s = [int(e) for e in next(f).split()] # max size of packages a courier can carry\n",
        "      D = np.genfromtxt(f, dtype=int).tolist() # Distances\n",
        "    return m, n, l, s, D"
      ],
      "metadata": {
        "id": "15x5rIFpXt4y"
      },
      "execution_count": 10,
      "outputs": []
    },
    {
      "cell_type": "code",
      "source": [
        "def SMT(m, n, l, s, D):\n",
        "  COURIERS = range(m)\n",
        "  ITEMS = range(1, n + 1)\n",
        "\n",
        "  ####################################### DECISION VARIABLES #######################################\n",
        "\n",
        "  # main decision variable: x[i,j] = k mean that the i-th courier is in j at time k\n",
        "  X = [[Int(f'X_{i}_{j}') for j in range(n + 1)]for i in COURIERS]\n",
        "\n",
        "  # variable for distance calculation\n",
        "  dist = [Int(f'dist_{i}') for i in COURIERS]\n",
        "\n",
        "  # variable for loads calculation\n",
        "  load = [Int(f'load_{i}') for i in COURIERS]\n",
        "\n",
        "  solver = Solver()\n",
        "  start_time = time.time()\n",
        "\n",
        "  ####################################### CONSTRAINTS #######################################\n",
        "\n",
        "  for i in COURIERS:\n",
        "    for j in ITEMS:\n",
        "      solver.add(X[i][j] >= 0)\n",
        "\n",
        "  # Starting and Ending at Origin\n",
        "  for i in COURIERS:\n",
        "    # Start and end at origin\n",
        "    solver.add(X[i][0] == n + 1)  # Start of route\n",
        "    solver.add(X[i][n] == n + 1)  # End of route (assume maximum route length)\n",
        "\n",
        "  # Assignment Constraint\n",
        "  for j in ITEMS:\n",
        "    solver.add(Sum([If(X[i][j] > 0, 1, 0) for i in COURIERS]) == 1)\n",
        "\n",
        "  for i in COURIERS:\n",
        "    solver.add(Sum([If(X[i][j] > 0, 1, 0) for j in ITEMS]) >= 1)\n",
        "\n",
        "  # Load Constraint\n",
        "  for i in COURIERS:\n",
        "    solver.add(Sum([If(X[i][j] > 0, s[j - 1], 0) for j in ITEMS]) <= l[i])\n",
        "\n",
        "  # # Route Distinctness Constraint\n",
        "  # for i in COURIERS:\n",
        "  #   solver.add(Distinct([X[i][j] for j in ITEMS if X[i][j] > 0]))\n",
        "\n",
        "  for i in COURIERS:  # For each courier\n",
        "    # Calculate the number of assigned items (`c`) for courier `i`\n",
        "    c = Sum([If(X[i][j] > 0, 1, 0) for j in ITEMS])\n",
        "\n",
        "    # Distance from origin to the first item in the route\n",
        "    dist_start = Sum([If(X[i][j] == 1, D[n][j], 0) for j in ITEMS])\n",
        "\n",
        "    # Distance between consecutive items in the route\n",
        "    dist_consecutive = Sum([\n",
        "        If(And(X[i][j1] > 0, X[i][j2] > 0, X[i][j2] - X[i][j1] == 1), D[j1][j2], 0)\n",
        "        for j1 in ITEMS for j2 in ITEMS\n",
        "    ])\n",
        "\n",
        "    # Distance from the last item in the route back to the origin\n",
        "    dist_end = Sum([If(X[i][j] == c, D[j][n], 0) for j in ITEMS])\n",
        "\n",
        "    # Total distance expression for courier `i`\n",
        "    dist_expr = dist_start + dist_consecutive + dist_end\n",
        "\n",
        "    # Add the constraint for the total distance of courier `i`\n",
        "    solver.add(dist[i] == dist_expr)\n",
        "\n",
        "  ####################################### OBJECTIVE FUNCTION #######################################\n",
        "\n",
        "  obj = Int('obj')\n",
        "  solver.add(obj == maximum([dist[i] for i in COURIERS]))\n",
        "\n",
        "  ######################################## SEARCH STRATEGY #########################################\n",
        "\n",
        "  lower_bound = max([D[n][j] + D[j][n] for j in ITEMS])\n",
        "  solver.add(obj >= lower_bound)\n",
        "\n",
        "  encoding_time = time.time() - start_time\n",
        "  print(f\"Starting search after: {encoding_time:3.3} seconds with lowerbound: [{lower_bound}]\\n\")\n",
        "  solver.add(time.time() - start_time - encoding_time < 300000)  # Set timeout to 5 minutes\n",
        "\n",
        "\n",
        "  ############################################# SOLVE #############################################\n",
        "  if solver.check() != sat:\n",
        "    print (\"failed to solve\")\n",
        "  else:\n",
        "    print(\"solveee !!!!\")\n",
        "  # while solver.check() == sat:\n",
        "  #   model = solver.model()\n",
        "  #   for i in COURIERS:\n",
        "  #     print(f\"Courier {i + 1} route:\")\n",
        "  #     for j in range(n + 1):\n",
        "  #       if model.evaluate(X[i][j]) > 0:\n",
        "  #         item_or_origin = model.evaluate(X[i][j])\n",
        "  #         print(f\" - Position {j}: {'Origin' if item_or_origin == n + 1 else 'Item ' + str(item_or_origin)}\")\n",
        "  #     print(f\"Total distance: {model.evaluate(dist[i])}\")"
      ],
      "metadata": {
        "id": "zrSEbJMyq0mm"
      },
      "execution_count": 24,
      "outputs": []
    },
    {
      "cell_type": "code",
      "source": [
        "SMT(*run_model_on_instance(\"inst01.dat\"))"
      ],
      "metadata": {
        "colab": {
          "base_uri": "https://localhost:8080/"
        },
        "id": "y1zg4lYjphxS",
        "outputId": "3cf2b874-9bfb-41cd-8453-1bd9e1bc2f5e"
      },
      "execution_count": 25,
      "outputs": [
        {
          "output_type": "stream",
          "name": "stdout",
          "text": [
            "Starting search after: 0.11 seconds with lowerbound: [8]\n",
            "\n",
            "failed to solve\n"
          ]
        }
      ]
    }
  ]
}