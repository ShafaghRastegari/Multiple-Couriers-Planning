{
  "cells": [
    {
      "cell_type": "code",
      "execution_count": null,
      "metadata": {
        "colab": {
          "base_uri": "https://localhost:8080/"
        },
        "id": "h4q3Ffp9KrNe",
        "outputId": "334ba7fd-be0b-4973-e299-b86ce7a3a3db"
      },
      "outputs": [
        {
          "name": "stdout",
          "output_type": "stream",
          "text": [
            "Collecting z3-solver\n",
            "  Downloading z3_solver-4.13.3.0-py3-none-manylinux_2_17_x86_64.manylinux2014_x86_64.whl.metadata (602 bytes)\n",
            "Downloading z3_solver-4.13.3.0-py3-none-manylinux_2_17_x86_64.manylinux2014_x86_64.whl (28.1 MB)\n",
            "\u001b[2K   \u001b[90m━━━━━━━━━━━━━━━━━━━━━━━━━━━━━━━━━━━━━━━━\u001b[0m \u001b[32m28.1/28.1 MB\u001b[0m \u001b[31m19.9 MB/s\u001b[0m eta \u001b[36m0:00:00\u001b[0m\n",
            "\u001b[?25hInstalling collected packages: z3-solver\n",
            "Successfully installed z3-solver-4.13.3.0\n"
          ]
        }
      ],
      "source": [
        "!pip install z3-solver"
      ]
    },
    {
      "cell_type": "code",
      "execution_count": null,
      "metadata": {
        "id": "FOGrToRqLh8Z"
      },
      "outputs": [],
      "source": [
        "from z3 import *\n",
        "import numpy as np\n",
        "import time"
      ]
    },
    {
      "cell_type": "code",
      "execution_count": null,
      "metadata": {
        "id": "15x5rIFpXt4y"
      },
      "outputs": [],
      "source": [
        "def maximum(x):\n",
        "    m = x[0]\n",
        "    for v in x[1:]:\n",
        "        m = If(v > m, v, m)\n",
        "    return m\n",
        "\n",
        "def run_model_on_instance(file):\n",
        "    with open(file) as f:\n",
        "      m = int(next(f)) # couriers\n",
        "      n = int(next(f)) # items\n",
        "      l = [int(e) for e in next(f).split()] # capacities\n",
        "      s = [int(e) for e in next(f).split()] # max size of packages a courier can carry\n",
        "      D = np.genfromtxt(f, dtype=int).tolist() # Distances\n",
        "    return m, n, l, s, D"
      ]
    },
    {
      "cell_type": "code",
      "execution_count": 55,
      "metadata": {
        "id": "zrSEbJMyq0mm"
      },
      "outputs": [],
      "source": [
        "def SMT(m, n, l, s, D):\n",
        "  COURIERS = range(m)\n",
        "  ITEMS = range(n)\n",
        "\n",
        "  ####################################### DECISION VARIABLES #######################################\n",
        "\n",
        "  # main decision variable: x[i,j] = k mean that the i-th courier is in j at time k\n",
        "  X = [[Int(f'X_{i}_{j}') for j in ITEMS]for i in COURIERS]\n",
        "\n",
        "  # variable for distance calculation\n",
        "  dist = [Int(f'dist_{i}') for i in COURIERS]\n",
        "\n",
        "  # variable for loads calculation\n",
        "  load = [Int(f'load_{i}') for i in COURIERS]\n",
        "\n",
        "  # the number of items that are delivered by each courier\n",
        "  count = [Int(f'count_{i}') for i in COURIERS]\n",
        "\n",
        "  solver = Solver()\n",
        "\n",
        "  ####################################### CONSTRAINTS #######################################\n",
        "\n",
        "  # Assignment Constraint\n",
        "  for j in ITEMS:\n",
        "    solver.add(Sum([If(X[i][j] > 0, 1, 0) for i in COURIERS]) == 1)\n",
        "\n",
        "  for i in COURIERS:\n",
        "    solver.add(Sum([If(X[i][j] > 0, 1, 0) for j in ITEMS]) >= 1)\n",
        "\n",
        "  # Load Constraint\n",
        "  for i in COURIERS:\n",
        "    solver.add(Sum([If(X[i][j] > 0, s[j], 0) for j in ITEMS]) <= l[i])\n",
        "\n",
        "  for i in COURIERS:  # For each courier\n",
        "    # Calculate the number of assigned items (`c`) for courier `i`\n",
        "    c = Sum([If(X[i][j] > 0, 1, 0) for j in ITEMS])\n",
        "    solver.add(count[i] == c)\n",
        "    # Distance from origin to the first item in the route\n",
        "    dist_start = Sum([If(X[i][j] == 1, D[n][j], 0) for j in ITEMS])\n",
        "\n",
        "    # Distance between consecutive items in the route\n",
        "    dist_consecutive = Sum([\n",
        "        If(And(X[i][j1] > 0, X[i][j2] > 0, X[i][j2] - X[i][j1] == 1), D[j1][j2], 0)\n",
        "        for j1 in ITEMS for j2 in ITEMS\n",
        "    ])\n",
        "\n",
        "    # Distance from the last item in the route back to the origin\n",
        "    dist_end = Sum([If(X[i][j] == c, D[j][n], 0) for j in ITEMS])\n",
        "\n",
        "    # Total distance expression for courier `i`\n",
        "    dist_expr = dist_start + dist_consecutive + dist_end\n",
        "\n",
        "    # Add the constraint for the total distance of courier `i`\n",
        "    solver.add(dist[i] == dist_expr)\n",
        "\n",
        "  for i in COURIERS:\n",
        "    for j in ITEMS:\n",
        "      solver.add(And(X[i][j] >= 0, X[i][j] <= count[i]))\n",
        "\n",
        "  for i in COURIERS:\n",
        "    items = [If(X[i][j] > 0, X[i][j], -j) for j in ITEMS]\n",
        "    solver.add(Distinct(items))\n",
        "\n",
        "  ####################################### OBJECTIVE FUNCTION ######################################\n",
        "\n",
        "  obj = Int('obj')\n",
        "  solver.add(obj == maximum([dist[i] for i in COURIERS]))\n",
        "\n",
        "  ######################################## SEARCH STRATEGY ########################################\n",
        "\n",
        "  lower_bound = max([D[n][j] + D[j][n] for j in ITEMS])\n",
        "  solver.add(obj >= lower_bound)\n",
        "\n",
        "  ############################################# SOLVE #############################################\n",
        "\n",
        "  if solver.check() != sat:\n",
        "    print (\"failed to solve\")\n",
        "\n",
        "  final_value = 0\n",
        "  while solver.check() == sat:\n",
        "    model = solver.model()\n",
        "    result_X = [ [ model.evaluate(X[i][j]) for j in ITEMS ]\n",
        "            for i in COURIERS ]\n",
        "    result_dist = [model.evaluate(dist[i]) for i in COURIERS]\n",
        "    result_objective = model.evaluate(obj)\n",
        "\n",
        "    for i in COURIERS:\n",
        "      print_matrix(result_X[i])\n",
        "\n",
        "    print()\n",
        "    print_matrix(result_dist)\n",
        "    print(f\"Intermediate objective value: {result_objective}\\n\")\n",
        "    final_value = result_objective\n",
        "    solver.add(obj < result_objective)\n",
        "\n",
        "  print(f\"\\n\\nFinal objective: {final_value}\")\n",
        "  # final_time = time.time() - start_time\n",
        "  # print(f\"Finished in: {final_time:3.3} seconds\\n\")\n",
        "\n"
      ]
    },
    {
      "cell_type": "code",
      "execution_count": 60,
      "metadata": {
        "colab": {
          "base_uri": "https://localhost:8080/"
        },
        "id": "y1zg4lYjphxS",
        "outputId": "12b6af4d-4fee-4c4b-ba40-91093baf884c"
      },
      "outputs": [
        {
          "output_type": "stream",
          "name": "stdout",
          "text": [
            "[0, 0, 0, 0, 0, 1, 0, 0, 0, 0, 0, 0, 0]\n",
            "[1, 0, 0, 0, 0, 0, 0, 0, 0, 0, 0, 0, 0]\n",
            "[0, 0, 0, 0, 1, 0, 0, 0, 0, 0, 2, 0, 0]\n",
            "[0, 0, 0, 0, 0, 0, 1, 0, 0, 0, 0, 0, 0]\n",
            "[0, 0, 2, 0, 0, 0, 0, 0, 0, 1, 0, 0, 0]\n",
            "[0, 0, 0, 0, 0, 0, 0, 1, 0, 0, 0, 0, 0]\n",
            "[0, 2, 0, 1, 0, 0, 0, 0, 0, 0, 0, 0, 0]\n",
            "[0, 0, 0, 0, 0, 0, 0, 0, 0, 0, 0, 1, 0]\n",
            "[0, 0, 0, 0, 0, 0, 0, 0, 0, 0, 0, 0, 1]\n",
            "[0, 0, 0, 0, 0, 0, 0, 0, 1, 0, 0, 0, 0]\n",
            "\n",
            "[206, 114, 152, 120, 146, 216, 158, 244, 198, 228]\n",
            "Intermediate objective value: 244\n",
            "\n",
            "\n",
            "\n",
            "Final objective: 244\n"
          ]
        }
      ],
      "source": [
        "SMT(*run_model_on_instance(\"inst10.dat\"))"
      ]
    }
  ],
  "metadata": {
    "colab": {
      "provenance": []
    },
    "kernelspec": {
      "display_name": "Python 3",
      "name": "python3"
    },
    "language_info": {
      "name": "python"
    }
  },
  "nbformat": 4,
  "nbformat_minor": 0
}